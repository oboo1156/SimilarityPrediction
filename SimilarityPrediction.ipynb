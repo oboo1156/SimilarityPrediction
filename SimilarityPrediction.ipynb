{
 "cells": [
  {
   "cell_type": "code",
   "execution_count": 1,
   "id": "792dbeb1-32e2-410c-9c11-379b0cd044f0",
   "metadata": {},
   "outputs": [],
   "source": [
    "from keras.models import load_model\n",
    "import utils\n",
    "\n",
    "models = load_model('siamese_nn.h5', custom_objects={'contrastive_loss':utils.contrastive_loss, 'euclidean_distance': utils.euclidean_distance})\n"
   ]
  },
  {
   "cell_type": "code",
   "execution_count": 3,
   "id": "dbaebeb8-2b8f-4d5f-9f9e-bb270e071bd0",
   "metadata": {},
   "outputs": [],
   "source": [
    "import cv2 as cv\n",
    "image1 = 'desktop/true_img.jpg'\n",
    "image2 = 'desktop/another.jpg'\n",
    "\n",
    "me_img =  cv.imread(image1, 0)\n",
    "me_img = me_img.astype('float32')/255\n",
    "me_img = cv.resize(me_img, (92, 112))\n",
    "me_img = me_img.reshape(1, me_img.shape[0], me_img.shape[1], 1)\n",
    "\n",
    "me2_img = cv.imread(image2,0)\n",
    "me2_img = me2_img.astype('float32')/255\n",
    "me2_img = cv.resize(me2_img, (92, 112))\n",
    "me2_img = me2_img.reshape(1, me2_img.shape[0], me2_img.shape[1], 1)\n"
   ]
  },
  {
   "cell_type": "code",
   "execution_count": 4,
   "id": "141d96cd-c63f-4dcf-bce0-e02b2c90bd7d",
   "metadata": {},
   "outputs": [
    {
     "name": "stdout",
     "output_type": "stream",
     "text": [
      " You guys look alike\n",
      " Your level of closeness is: 51.00%\n"
     ]
    }
   ],
   "source": [
    "prediction = models.predict([me_img,me2_img])[0][0]\n",
    "if prediction >= 0.5:\n",
    "    print(f'You guys dont look similar\\n Your level of closeness is: {100*(1-prediction):.2f}%')\n",
    "else:\n",
    "    print(f' You guys look alike\\n Your level of closeness is: {100*(1-prediction):.2f}%')"
   ]
  },
  {
   "cell_type": "code",
   "execution_count": null,
   "id": "e2d5b466-22e1-4807-80a8-4c07434fa758",
   "metadata": {},
   "outputs": [],
   "source": []
  }
 ],
 "metadata": {
  "kernelspec": {
   "display_name": "Python 3",
   "language": "python",
   "name": "python3"
  },
  "language_info": {
   "codemirror_mode": {
    "name": "ipython",
    "version": 3
   },
   "file_extension": ".py",
   "mimetype": "text/x-python",
   "name": "python",
   "nbconvert_exporter": "python",
   "pygments_lexer": "ipython3",
   "version": "3.8.8"
  }
 },
 "nbformat": 4,
 "nbformat_minor": 5
}
